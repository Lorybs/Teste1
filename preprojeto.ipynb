{
  "nbformat": 4,
  "nbformat_minor": 0,
  "metadata": {
    "colab": {
      "provenance": [],
      "authorship_tag": "ABX9TyPslAslw31saBnvG7O1eb1c",
      "include_colab_link": true
    },
    "kernelspec": {
      "name": "python3",
      "display_name": "Python 3"
    },
    "language_info": {
      "name": "python"
    }
  },
  "cells": [
    {
      "cell_type": "markdown",
      "metadata": {
        "id": "view-in-github",
        "colab_type": "text"
      },
      "source": [
        "<a href=\"https://colab.research.google.com/github/Lorybs/Teste1/blob/main/preprojeto.ipynb\" target=\"_parent\"><img src=\"https://colab.research.google.com/assets/colab-badge.svg\" alt=\"Open In Colab\"/></a>"
      ]
    },
    {
      "cell_type": "code",
      "execution_count": 1,
      "metadata": {
        "id": "BVj442GLNRUy"
      },
      "outputs": [],
      "source": [
        "# Variaveis sao dinamicamente tipadas\n",
        "nome = \"João\"\n",
        "idade = 45\n",
        "peso = 85.3\n",
        "ehBrasileiro = True"
      ]
    },
    {
      "cell_type": "code",
      "source": [
        "print(\"nome:\" + str(type(nome)))\n",
        "print(\"idade:\" + str(type(idade)))\n",
        "print(\"peso:\" + str(type(peso)))\n",
        "print(\"ehBrasileiro:\" + str(type(ehBrasileiro)))\n"
      ],
      "metadata": {
        "colab": {
          "base_uri": "https://localhost:8080/"
        },
        "id": "XM_n5EHWOHVo",
        "outputId": "3e383104-4954-44cd-8530-2503abbd5fff"
      },
      "execution_count": 2,
      "outputs": [
        {
          "output_type": "stream",
          "name": "stdout",
          "text": [
            "nome:<class 'str'>\n",
            "idade:<class 'int'>\n",
            "peso:<class 'float'>\n",
            "ehBrasileiro:<class 'bool'>\n"
          ]
        }
      ]
    },
    {
      "cell_type": "markdown",
      "source": [
        "Teste de explicações\n"
      ],
      "metadata": {
        "id": "QgbmYlOdQcqO"
      }
    }
  ]
}